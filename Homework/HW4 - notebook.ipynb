{
 "cells": [
  {
   "cell_type": "markdown",
   "metadata": {},
   "source": [
    "## Getting started\n",
    "To run this notebook you need to install `pinocchio`, `meshcat` and `example_robot_data`. You can do it in your environment as follows\n",
    "\n",
    "\n",
    "```bash\n",
    "conda install pinocchio example-robot-data\n",
    "pip install meshcat\n",
    "```"
   ]
  },
  {
   "cell_type": "code",
   "execution_count": 8,
   "metadata": {},
   "outputs": [],
   "source": [
    "import numpy as np\n",
    "import matplotlib.pyplot as plt\n",
    "import pinocchio as pin\n",
    "import os\n",
    "import time\n",
    "import meshcat\n",
    "\n",
    "from pinocchio.visualize import MeshcatVisualizer\n",
    "\n",
    "import example_robot_data.robots_loader as robots\n"
   ]
  },
  {
   "cell_type": "code",
   "execution_count": 2,
   "metadata": {},
   "outputs": [
    {
     "name": "stdout",
     "output_type": "stream",
     "text": [
      "You can open the visualizer by visiting the following URL:\n",
      "http://127.0.0.1:7011/static/\n"
     ]
    }
   ],
   "source": [
    "## this part of the code will load the panda robot model and display it\n",
    "robot = robots.load('panda')\n",
    "\n",
    "END_EFF_FRAME_ID = 17\n",
    "\n",
    "viz = pin.visualize.MeshcatVisualizer(robot.model, robot.collision_model, robot.visual_model)\n",
    "\n",
    "try:\n",
    "    viz.initViewer(open=True)\n",
    "except ImportError as err:\n",
    "    print(\"Error while initializing the viewer. It seems you should install Python meshcat\")\n",
    "    print(err)\n",
    "    sys.exit(0)\n",
    "    \n",
    "viz.loadViewerModel()\n",
    "\n",
    "q0 = pin.neutral(robot.model)\n",
    "viz.display(q0)"
   ]
  },
  {
   "cell_type": "code",
   "execution_count": 9,
   "metadata": {},
   "outputs": [
    {
     "data": {
      "text/plain": [
       "array([[ 1.00000000e+00,  0.00000000e+00,  0.00000000e+00,\n",
       "         8.80000000e-02],\n",
       "       [ 0.00000000e+00, -1.00000000e+00, -1.22464680e-16,\n",
       "        -8.93992163e-18],\n",
       "       [ 0.00000000e+00,  1.22464680e-16, -1.00000000e+00,\n",
       "         9.26000000e-01],\n",
       "       [ 0.00000000e+00,  0.00000000e+00,  0.00000000e+00,\n",
       "         1.00000000e+00]])"
      ]
     },
     "execution_count": 9,
     "metadata": {},
     "output_type": "execute_result"
    }
   ],
   "source": [
    "def translate(vector):\n",
    "    transform = np.eye(4)\n",
    "    transform[0,3] = vector[0]\n",
    "    transform[1,3] = vector[1]\n",
    "    transform[2,3] = vector[2]\n",
    "    return transform\n",
    "\n",
    "def rotateX(angle):\n",
    "    transform = np.eye(4)\n",
    "    transform[1,1] = np.cos(angle)\n",
    "    transform[1,2] = -np.sin(angle)\n",
    "    transform[2,1] = np.sin(angle)\n",
    "    transform[2,2] = np.cos(angle)\n",
    "    return transform\n",
    "\n",
    "def rotateY(angle):\n",
    "    transform = np.eye(4)\n",
    "    transform[0,0] = np.round(np.cos(angle))\n",
    "    transform[0,2] = np.round(np.sin(angle))\n",
    "    transform[2,0] = np.round(-np.sin(angle))\n",
    "    transform[2,2] = np.round(np.cos(angle))\n",
    "    return transform\n",
    "\n",
    "def rotateZ(angle):\n",
    "    transform = np.eye(4)\n",
    "    transform[0,0] = np.cos(angle)\n",
    "    transform[0,1] = -np.sin(angle)\n",
    "    transform[1,0] = np.sin(angle)\n",
    "    transform[1,1] = np.cos(angle)\n",
    "    return transform\n",
    "\n",
    "def forward_kinematics(q):\n",
    "    q = np.pad(q, (0, max(0, 8 - len(q))), 'constant')\n",
    "\n",
    "    # assume theta is a vector, theta[0] = theta0, theta[1] = theta1, etc.\n",
    "    theta = [np.pi/2, -np.pi/2]\n",
    "\n",
    "    # we define the lengths of the robot\n",
    "    l0 = 0.333\n",
    "    l1 = -0.316\n",
    "    l2 = 0.0825\n",
    "    l3 = -0.0825\n",
    "    l4 = 0.384\n",
    "    l5 = 0.088\n",
    "    l6 = 0.107\n",
    "\n",
    "    T_01 = translate([0,0,l0]) @ rotateZ(q[0])\n",
    "    T_12 = rotateX(theta[1]) @ rotateZ(q[1])\n",
    "    T_23 = translate([0,l1,0]) @ rotateX(theta[0]) @ rotateZ(q[2])\n",
    "    T_34 = translate([l2,0,0]) @ rotateX(theta[0]) @ rotateZ(q[3])\n",
    "    T_45 = translate([l3,l4,0]) @ rotateX(theta[1]) @ rotateZ(q[4])\n",
    "    T_56 = rotateX(theta[0]) @ rotateZ(q[5])  \n",
    "    T_67 = translate([l5,0,0]) @ rotateX(theta[0]) @ rotateZ(q[6])  \n",
    "    T_7F = translate([0,0,l6]) \n",
    "\n",
    "    FK = T_01 @ T_12 @ T_23 @ T_34 @ T_45 @ T_56 @ T_67 @ T_7F\n",
    "\n",
    "    return FK\n",
    "\n",
    "forward_kinematics([0,0,0,0,0,0,0,0])  \n"
   ]
  },
  {
   "cell_type": "code",
   "execution_count": 11,
   "metadata": {},
   "outputs": [
    {
     "name": "stdout",
     "output_type": "stream",
     "text": [
      "Pinocchio FK at q0: \n",
      " [[ 1.00000000e+00  0.00000000e+00  0.00000000e+00  8.80000000e-02]\n",
      " [ 0.00000000e+00 -1.00000000e+00 -4.44089210e-16 -3.24185123e-17]\n",
      " [ 0.00000000e+00  4.44089210e-16 -1.00000000e+00  9.26000000e-01]\n",
      " [ 0.00000000e+00  0.00000000e+00  0.00000000e+00  1.00000000e+00]]\n"
     ]
    }
   ],
   "source": [
    "## use pinocchio to validate your FK function\n",
    "## be careful as the pinocchio model has 9 DOFs (to account for the fingers)\n",
    "## use the first 7 ones for the joint angles\n",
    "\n",
    "## pose of the end-effector at the 0 configuration\n",
    "q = np.array([0,0,0,0,0,0,0,0,0])\n",
    "robot.forwardKinematics(q)\n",
    "T_pin = robot.framePlacement(q, END_EFF_FRAME_ID)\n",
    "\n",
    "viz.display(q)\n",
    "print(\"Pinocchio FK at q0: \\n\", T_pin.homogeneous)"
   ]
  },
  {
   "cell_type": "code",
   "execution_count": 59,
   "metadata": {},
   "outputs": [
    {
     "name": "stdout",
     "output_type": "stream",
     "text": [
      "Pinocchio FK at a random pose q = [0.93954381 0.61313663 0.38107843 0.66406933 0.49543319 0.18549066\n",
      " 0.32070241]: \n",
      "\n",
      " [[ 0.19263212  0.960271   -0.20192193  0.12819604]\n",
      " [ 0.93840894 -0.12012257  0.32397412  0.19761515]\n",
      " [ 0.28684757 -0.25189316 -0.92426636  0.84626902]\n",
      " [ 0.          0.          0.          1.        ]]\n"
     ]
    }
   ],
   "source": [
    "## pose of the end-effector at a random configuration\n",
    "q[0:7] = np.random.rand(7)\n",
    "robot.forwardKinematics(q)\n",
    "T_pin = robot.framePlacement(q, END_EFF_FRAME_ID)\n",
    "\n",
    "viz.display(q)\n",
    "print(f\"Pinocchio FK at a random pose q = {q[0:7]}: \\n\\n\", T_pin.homogeneous)"
   ]
  },
  {
   "cell_type": "code",
   "execution_count": 7,
   "metadata": {},
   "outputs": [
    {
     "data": {
      "image/png": "[encoded data removed]",
      "text/plain": [
       "<Figure size 640x480 with 1 Axes>"
      ]
     },
     "metadata": {},
     "output_type": "display_data"
    }
   ],
   "source": [
    "import matplotlib.pyplot as plt\n",
    "import numpy as np\n",
    "\n",
    "## we load the file robot_trajectory.npy - it contains a list of 23 joint configurations\n",
    "robot_trajectory = np.load('robot_trajectory.npy')\n",
    "\n",
    "x_value = []\n",
    "y_value = []\n",
    "\n",
    "for i in range(23):\n",
    "    value = robot_trajectory[i]\n",
    "    position = forward_kinematics(value)\n",
    "    x_value.append(position[0,3])\n",
    "    y_value.append(position[1,3])\n",
    "\n",
    "plt.plot(x_value, y_value, '-o')\n",
    "plt.show()"
   ]
  }
 ],
 "metadata": {
  "kernelspec": {
   "display_name": "myenv",
   "language": "python",
   "name": "python3"
  },
  "language_info": {
   "codemirror_mode": {
    "name": "ipython",
    "version": 3
   },
   "file_extension": ".py",
   "mimetype": "text/x-python",
   "name": "python",
   "nbconvert_exporter": "python",
   "pygments_lexer": "ipython3",
   "version": "3.12.2"
  }
 },
 "nbformat": 4,
 "nbformat_minor": 4
}
