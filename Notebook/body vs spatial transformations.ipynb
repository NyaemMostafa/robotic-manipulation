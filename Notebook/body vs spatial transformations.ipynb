{
 "cells": [
  {
   "cell_type": "code",
   "execution_count": null,
   "id": "bcdcf06b",
   "metadata": {},
   "outputs": [],
   "source": [
    "# setup some librairies and display options\n",
    "%matplotlib widget\n",
    "\n",
    "import numpy as np\n",
    "import matplotlib.pyplot as plt\n",
    "\n",
    "# be careful we will only print the first 4 digits and round small numbers in arrays\n",
    "np.set_printoptions(suppress=True, precision=4)\n",
    "\n",
    "# libraries to make things interactive\n",
    "from ipywidgets import interact, interactive, fixed, interact_manual\n",
    "import ipywidgets as widgets\n",
    "from IPython.display import display, Markdown\n",
    "\n",
    "from display_helpers import bmatrix, pmatrix\n",
    "import display_helpers"
   ]
  },
  {
   "cell_type": "markdown",
   "id": "ee0e0755",
   "metadata": {},
   "source": [
    "This notebook aims to provide a visual example of the effect of doing rigid-body transformations from the body or spatial frame (i.e. what happens when we multiply on the left or on the right of an homogeneous transform).\n",
    "\n"
   ]
  },
  {
   "cell_type": "markdown",
   "id": "77a43bfd",
   "metadata": {},
   "source": [
    "## Body and Spatial transformations\n",
    "\n",
    "The code below displays the effect of a transformation in body coordinates. If an object has pose $T_{SB}$ and we want to apply a transformation $T_{C}$ on it, for example a rotation. There are two manners to apply this transformation: \n",
    "1. either this transformation is done with respect to the spatial frame and then the new pose of the object is $T_{SB, new} = T_C \\cdot T_{SB}$\n",
    "2. or this transformation is done with respect to the body frame (i.e. the frame of the object) and then the new pose of the object is $T_{SB, new} = T_{SB} \\cdot T_C$\n",
    "\n",
    "\n",
    "Below we created a simple example where we rotate a cube by a rotation of $\\alpha$ along the z-axis. We can select to either use this rotation either with respect to the z-axis of the spatial frame or the z-axis of the body frame.\n",
    "\n",
    "In the code below, you can change `T_init` as the initial pose of the cube to see how these changes affect the behavior of the movement.\n",
    "\n",
    "\n",
    "Note: if your browser does not update the matrices in real time below - change every occurence of `continuous_update = True` in the code below into `continuous_update = False`. This should enable the browser to update the matrices only after you release the slider."
   ]
  },
  {
   "cell_type": "code",
   "execution_count": null,
   "id": "9af0e12c",
   "metadata": {},
   "outputs": [],
   "source": [
    "def rotate_cube(ax, T_init, alpha, body):\n",
    "    \"\"\"\n",
    "        this plots the transformation of a cube from T_init pose when a rotation of alpha around z is added\n",
    "        if body=True, the rotation is done around the body z axis: T_final = T_init * T_rotation\n",
    "        if body = False, the rotation is done around the spatial frame z axis: T_final = T_rotation * T_init\n",
    "    \"\"\"\n",
    "    # vertices of a cube\n",
    "    vertices = np.array([[-1., -0.5, -0.5], [1, -0.5, -0.5], [1, 0.5, -0.5],  [-1, 0.5, -0.5], \n",
    "                         [-1., -0.5, 0.5], [1, -0.5, 0.5], [1, 0.5, 0.5],  [-1, 0.5, 0.5]])\n",
    "    \n",
    "    # a pure rotation around z axis of alpha \n",
    "    T_rot = np.eye(4)\n",
    "    T_rot[0:2, 0:2] = np.array([[np.cos(alpha), -np.sin(alpha)], [np.sin(alpha), np.cos(alpha)]])\n",
    "\n",
    "    \n",
    "    output = r'Initial pose of the body $T_{B} = ' + bmatrix(T_init) + '$'\n",
    "    display(Markdown(output))\n",
    "    output = r'Rotation $T_{rot} = ' + bmatrix(T_rot) + '$'\n",
    "    display(Markdown(output))\n",
    "    \n",
    "    # check whether we are doing a body or a spatial transformation\n",
    "    if body:\n",
    "        T = T_init @ T_rot\n",
    "        display(Markdown('We perform the rotation with respect to the body z axis'))\n",
    "        output = r'Final transform $T = T_{B} \\cdot T_{rot}  = ' + bmatrix(T_init) + r'\\cdot' + bmatrix(T_rot) + '=' + bmatrix(T) + '$'\n",
    "    else:\n",
    "        T = T_rot @ T_init\n",
    "        display(Markdown('We perform the rotation with respect to the spatial frame z axis'))\n",
    "        output = r'Final transform $T = T_{rot} \\cdot T_{B}  = ' + bmatrix(T_rot) + r'\\cdot' + bmatrix(T_init) + '=' + bmatrix(T) + '$'\n",
    "\n",
    "    display_helpers.update_plot_cube3D(ax, vertices, T, plot_scale=2.5)        \n",
    "    \n",
    "    display(Markdown(output))\n",
    "    \n",
    "\n",
    "## the initial position of the cube (feel free to change it)\n",
    "## example with just a translated position\n",
    "# T_init = np.eye(4,4)\n",
    "# T_init[0:3,3] = np.array([1.5,0,0])\n",
    "\n",
    "## example with z and y axes rotated by pi/4 around x (uncomment below to try)\n",
    "T_init = np.eye(4,4)\n",
    "T_init[1:3,1:3] = np.array([[np.cos(np.pi/4),-np.sin(np.pi/4)],[np.sin(np.pi/4),np.cos(np.pi/4.)]])\n",
    "T_init[0:3,3] = np.array([1.5,0,0])\n",
    "\n",
    "\n",
    "display(Markdown(r'### Illustration of a rotation around z with respect to the body frame or the spatial frame'))\n",
    "fig = plt.figure(figsize=[6,6])\n",
    "ax = fig.add_subplot(111, projection='3d')\n",
    "plt.show()\n",
    "display(Markdown(r'### Use the slider to change the rotations around each axis'))\n",
    "\n",
    "# build the widgets and interactive figure\n",
    "interact(lambda alpha, body: rotate_cube(ax, T_init, alpha, body), \n",
    "         alpha = widgets.FloatSlider(min=-3.14,max=3.14,step=0.01, value=0., continuous_update=True),\n",
    "         body = widgets.RadioButtons(options=[('Body rotation', True), ('Spatial frame rotation', False)], disabled=False, continuous_update=True)\n",
    "        )\n",
    "\n"
   ]
  },
  {
   "cell_type": "code",
   "execution_count": null,
   "id": "67813280",
   "metadata": {},
   "outputs": [],
   "source": []
  }
 ],
 "metadata": {
  "kernelspec": {
   "display_name": "Python 3 (ipykernel)",
   "language": "python",
   "name": "python3"
  },
  "language_info": {
   "codemirror_mode": {
    "name": "ipython",
    "version": 3
   },
   "file_extension": ".py",
   "mimetype": "text/x-python",
   "name": "python",
   "nbconvert_exporter": "python",
   "pygments_lexer": "ipython3",
   "version": "3.12.1"
  }
 },
 "nbformat": 4,
 "nbformat_minor": 5
}
