{
 "cells": [
  {
   "cell_type": "code",
   "execution_count": null,
   "id": "bcdcf06b",
   "metadata": {},
   "outputs": [],
   "source": [
    "# setup some librairies and display options\n",
    "%matplotlib widget\n",
    "\n",
    "import numpy as np\n",
    "import matplotlib.pyplot as plt\n",
    "\n",
    "# be careful we will only print the first 5 digits and round small numbers in arrays\n",
    "np.set_printoptions(suppress=True, precision=4)\n",
    "\n",
    "# libraries to make things interactive\n",
    "from IPython.display import display, Markdown\n",
    "\n",
    "from display_helpers import bmatrix, pmatrix\n",
    "import display_helpers"
   ]
  },
  {
   "cell_type": "markdown",
   "id": "ee0e0755",
   "metadata": {},
   "source": [
    "A rotation matrix can be used to describe the relative orientation of a frame with respect to another. Each column of a rotation matrix contains to the coordinates of one axis of the rotated frame with respect to the original frame.\n",
    "\n",
    "Rotation matrices are typically used for three different purposes\n",
    "1. To describe the orientation of a frame with respect to another\n",
    "2. To rotate a point, a vector or a rigid body\n",
    "3. To change coordinates\n",
    "\n",
    "We give example of all of these uses in 2D below\n",
    "\n",
    "# Rotations in 2D\n",
    "The only possible rotations in 2D are rotations around an axis orthogonal to the plane. A rotation of $\\theta$  can be written as the rotation matrix $$R(\\theta) = \\begin{bmatrix} \\cos\\theta & -\\sin\\theta \\\\ \\sin\\theta & \\cos\\theta \\end{bmatrix}$$\n",
    "\n",
    "First we write a function that creates a 2D rotation matrix"
   ]
  },
  {
   "cell_type": "code",
   "execution_count": null,
   "id": "05eee4ca",
   "metadata": {},
   "outputs": [],
   "source": [
    "def get_rotation_2D(theta):\n",
    "    \"\"\"This function gets an angle and returns a rotation matrix representing a 2D rotation of theta\"\"\"\n",
    "    return np.array([[np.cos(theta), -np.sin(theta)],[np.sin(theta), np.cos(theta)]])\n",
    "\n",
    "# we can get and print a rotation of theta=pi/4\n",
    "R = get_rotation_2D(np.pi/4.)\n",
    "\n",
    "display(Markdown('we can get and print a rotation of ' + r'$\\theta=\\frac{\\pi}{4}$'))\n",
    "display(Markdown('$R = ' + bmatrix(R) + '$'))"
   ]
  },
  {
   "cell_type": "markdown",
   "id": "080eff90",
   "metadata": {},
   "source": [
    "## Properties of rotation matrices\n",
    "We can also verify that for any random $\\theta$, the matrix is orthogonal and has determinant equal to 1"
   ]
  },
  {
   "cell_type": "code",
   "execution_count": null,
   "id": "950a2292",
   "metadata": {},
   "outputs": [],
   "source": [
    "theta = np.random.uniform(0, 2*np.pi)\n",
    "R = get_rotation_2D(theta)\n",
    "\n",
    "\n",
    "display(Markdown(r'$\\theta = $' + f'{theta}\\n'))\n",
    "display(Markdown('$R = ' + bmatrix(R) + '$'))\n",
    "display(Markdown(r'$R \\cdot R^T = ' + bmatrix(R@R.T) + r'$'))\n",
    "display(Markdown(r'$R^T \\cdot R = ' + bmatrix(R.T@R) + '$'))\n",
    "\n",
    "print(f'det(R) = {np.linalg.det(R)}')"
   ]
  },
  {
   "cell_type": "markdown",
   "id": "77a43bfd",
   "metadata": {},
   "source": [
    "## 1) Orientation of a frame B with respect to a frame S\n",
    "\n",
    "The function below creates an interactive figure to visualize the orientation of a frame B with respect to another S and how the coordinates of a point moving with frame B changes when written in frame S.\n",
    "\n",
    "Note: you can look at the function in the display_helpers.py file - you will see that it merely just computes the new axes coordinates (i.e. the columns of the rotation matrix) and plots them."
   ]
  },
  {
   "cell_type": "code",
   "execution_count": null,
   "id": "adcd187f",
   "metadata": {},
   "outputs": [],
   "source": [
    "display_helpers.rotated_frame_widget()"
   ]
  },
  {
   "cell_type": "markdown",
   "id": "875fe051",
   "metadata": {},
   "source": [
    "## 2) Rotate a point, vector or rigid body\n",
    "In this example, we display a rigid body (i.e. a finite collection of points in our case). We simply compute the rotation matrix R and then multiply the coordinates of each point p that belongs to the body by R to get the new position of all the rotated points $$p' = R \\cdot p$$"
   ]
  },
  {
   "cell_type": "code",
   "execution_count": null,
   "id": "b6e48886",
   "metadata": {},
   "outputs": [],
   "source": [
    "## here we create a body with a center at mx, my made of 4 points \n",
    "# each column of the body matrix corresponds to the x,y coordinates of one point (the last column = the first one to make sure we get a closed line)\n",
    "# feel free to create your own set of points / add points, etc\n",
    "mx = 0.4\n",
    "my = -0.4\n",
    "body = np.array([[-0.5+mx, mx, 0.5+mx, mx, -0.5+mx],[my-0.2, my-0.5, my-0.2, my+0.6, my-0.2]])\n",
    "\n",
    "# we display the body and the body after a rotate of theta\n",
    "display_helpers.display_rotated_body_widget(body)"
   ]
  },
  {
   "cell_type": "code",
   "execution_count": null,
   "id": "eb87a18c",
   "metadata": {},
   "outputs": [],
   "source": []
  }
 ],
 "metadata": {
  "kernelspec": {
   "display_name": "Python 3 (ipykernel)",
   "language": "python",
   "name": "python3"
  },
  "language_info": {
   "codemirror_mode": {
    "name": "ipython",
    "version": 3
   },
   "file_extension": ".py",
   "mimetype": "text/x-python",
   "name": "python",
   "nbconvert_exporter": "python",
   "pygments_lexer": "ipython3",
   "version": "3.12.1"
  }
 },
 "nbformat": 4,
 "nbformat_minor": 5
}
