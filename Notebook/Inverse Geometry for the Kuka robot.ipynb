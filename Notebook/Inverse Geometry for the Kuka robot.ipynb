{
 "cells": [
  {
   "cell_type": "markdown",
   "metadata": {},
   "source": [
    "# Inverse Geometry of the Kuka Robot\n",
    "\n",
    "Using the forward kinematics function developed previously, we will see how we can compute its inverse for the Kuka iiwa robot seen in class.\n",
    "\n",
    "<img src=\"./figs/kuka_robot.png\" width=\"250\">"
   ]
  },
  {
   "cell_type": "code",
   "execution_count": null,
   "metadata": {},
   "outputs": [],
   "source": [
    "#setup nice plotting\n",
    "%matplotlib widget\n",
    "\n",
    "# we import useful libraries\n",
    "import time\n",
    "import numpy as np\n",
    "import pinocchio\n",
    "import os\n",
    "import meshcat\n",
    "import matplotlib as mp\n",
    "import matplotlib.pyplot as plt\n",
    "import scipy\n",
    "\n",
    "\n",
    "np.set_printoptions(suppress=True, precision=4) # we don't want to print every decimal!"
   ]
  },
  {
   "cell_type": "code",
   "execution_count": null,
   "metadata": {},
   "outputs": [],
   "source": [
    "# the directory where the robot models are located\n",
    "package_dirs = './urdf/'\n",
    "\n",
    "# the name of the URDF model (the robot model)\n",
    "urdf_file = 'iiwa.urdf'\n",
    "END_EFF_FRAME_ID = 17 # number of the frame corresponding to the end-effector\n",
    "\n",
    "# we load the urdf models with Pinocchio (it will build a robot model, its kinematic tree, etc)\n",
    "urdf = package_dirs + urdf_file\n",
    "robot = pinocchio.RobotWrapper.BuildFromURDF(urdf, package_dirs)\n",
    "\n",
    "# we create the visualization for Meshcat\n",
    "viz = pinocchio.visualize.MeshcatVisualizer(robot.model, robot.collision_model, robot.visual_model)\n",
    "try:\n",
    "    viz.initViewer(open=True)\n",
    "except ImportError as err:\n",
    "    print(\"Error while initializing the viewer. It seems you should install Python meshcat\")\n",
    "    print(err)\n",
    "    sys.exit(0)\n",
    "viz.loadViewerModel()\n",
    "\n",
    "q = pinocchio.neutral(robot.model)\n",
    "viz.display(q) # to update the meshcat display\n",
    "\n",
    "# create a ball to visualize the goal\n",
    "viz.viewer['ball'].set_object(meshcat.geometry.Sphere(0.065), \n",
    "                              meshcat.geometry.MeshLambertMaterial(\n",
    "                             color=0xff22dd,\n",
    "                             reflectivity=0.8))"
   ]
  },
  {
   "cell_type": "markdown",
   "metadata": {},
   "source": [
    "## Basic transforms\n",
    "\n",
    "We define below basic functions to get homogeneous transforms that correspond to pure translations and rotations around x,y or z axes"
   ]
  },
  {
   "cell_type": "code",
   "execution_count": null,
   "metadata": {},
   "outputs": [],
   "source": [
    "def translate(vector):\n",
    "    # we allocate a 4x4 array (as identity since this corresponds to no motion)\n",
    "    transform = np.eye(4)\n",
    "    \n",
    "    # here you can fill the rest of the transform\n",
    "    transform[0:3,3] = vector\n",
    "\n",
    "    ### we return the object\n",
    "    return transform\n",
    "\n",
    "def rotateX(angle):\n",
    "    # we allocate a 4x4 array (as identity since this corresponds to no motion)\n",
    "    transform = np.eye(4)\n",
    "    \n",
    "    # here you can fill the rest of the transform\n",
    "    transform[1:3,1:3] = np.array([[np.cos(angle), -np.sin(angle)],[np.sin(angle), np.cos(angle)]])\n",
    "\n",
    "    ### we return the object\n",
    "    return transform\n",
    "\n",
    "def rotateY(angle):\n",
    "    # we allocate a 4x4 array (as identity since this corresponds to no motion)\n",
    "    transform = np.eye(4)\n",
    "    \n",
    "    # here you can fill the rest of the transform\n",
    "    transform[0,0] = np.cos(angle)\n",
    "    transform[0,2] = np.sin(angle)\n",
    "    transform[2,0] = -np.sin(angle)\n",
    "    transform[2,2] = np.cos(angle)\n",
    "\n",
    "    ### we return the object\n",
    "    return transform\n",
    "\n",
    "def rotateZ(angle):\n",
    "    # we allocate a 4x4 array (as identity since this corresponds to no motion)\n",
    "    transform = np.eye(4)\n",
    "    \n",
    "    # here you can fill the rest of the transform\n",
    "    transform[0:2,0:2] = np.array([[np.cos(angle), -np.sin(angle)],[np.sin(angle), np.cos(angle)]])\n",
    "\n",
    "    \n",
    "    ### we return the object\n",
    "    return transform"
   ]
  },
  {
   "cell_type": "markdown",
   "metadata": {},
   "source": [
    "## Forward kinematics\n",
    "This is directly taken from the previous notebook on forward kinematics"
   ]
  },
  {
   "cell_type": "code",
   "execution_count": null,
   "metadata": {},
   "outputs": [],
   "source": [
    "def forward_kinematics_KUKA(theta):\n",
    "    T_BJ1 = translate([0,0,0.1575]) @ rotateZ(theta[0])\n",
    "    T_J1J2 = translate([0,0,0.2025]) @ rotateY(theta[1])\n",
    "    T_J2J3 = translate([0,0,0.2045]) @ rotateZ(theta[2])\n",
    "    T_J3J4 = translate([0,0,0.2155]) @ rotateY(-theta[3])\n",
    "    T_J4J5 = translate([0,0,0.1845]) @ rotateZ(theta[4])\n",
    "    T_J5J6 = translate([0,-0.0607, 0.2155]) @rotateY(theta[5])\n",
    "    T_J6J7 = translate([0,0.0607, 0.0810])@ rotateZ(theta[6])\n",
    "    T_J7E = translate([0,0,0.04])\n",
    "\n",
    "    T_SF = T_BJ1 @ T_J1J2 @ T_J2J3 @ T_J3J4 @ T_J4J5 @ T_J5J6 @ T_J6J7 @ T_J7E\n",
    "    \n",
    "    ### we return the pose of the end-effector\n",
    "    return T_SF"
   ]
  },
  {
   "cell_type": "markdown",
   "metadata": {},
   "source": [
    "## Inverse Geometry\n",
    "We have a FK function that maps joint angles $\\theta$ to the end-effector pose (as an homogeneous transform): it computes the position and the orientation of the end-effector as a function of the joint angles $p_{effector}(\\theta)$ and $R_{effector}(\\theta)$.\n",
    "\n",
    "The inverse problem (denoted inverse geometry in this notebook) is to find joint angles that would put the end-effector at a given pose. For example we want to end-effector to reach a desired position $p_{desired}$.\n",
    "\n",
    "So the problem is to find $\\theta$ such that $$p_{effector}(\\theta) = p_{desired}$$\n",
    "\n",
    "This equation is complicated (there are a lot of sine and cosine) and we don't even have an explicit analytical formula for $p_{effector}(\\theta)$! One way to approach the problem is to write this problem as an optimization problem (and then ask an optimization routine to find the solution for us). We can write the minimization problem\n",
    "$$\\min_{\\theta} = ||p_{effector}(\\theta) - p_{desired}||^2$$\n",
    "\n",
    "If equation $$p_{effector}(\\theta) = p_{desired}$$ has a solution, then the above minimum should be 0. In that case the minimization problem would find the solution to this equation. If the equation has no solution, then the minimization problem will find the \"closest\" solution (in the sense of the Euclidian distance). It means that it will find joint angles that bring the robot's end-effector closest to the desired position.\n",
    "\n",
    "### Solving the minimization problem\n",
    "We can use \"off-the-shelf\" optimization solvers such as the ``minimize`` function from [SciPy](https://scipy.org/) to solve such problems. The cell below "
   ]
  },
  {
   "cell_type": "code",
   "execution_count": null,
   "metadata": {},
   "outputs": [],
   "source": [
    "## first we need to write a function that implements the cost function we want to minimize, i.e. ||p(theta) - p_desired||^2\n",
    "def get_error(theta, desired_position):\n",
    "    \"\"\"\n",
    "    theta is the current joint configuration\n",
    "    desired_position is the desired end-effector position (a 3D vector)\n",
    "    \"\"\"\n",
    "    # we compute the end-effector position from the current guess theta\n",
    "    current_guess_position = forward_kinematics_KUKA(theta)[0:3,3]\n",
    "    \n",
    "    # we compute and return error (as Euclidian distance)\n",
    "    error = current_guess_position - desired_position\n",
    "    return error.dot(error)\n",
    "\n",
    "# our initial guess\n",
    "x0 = np.zeros(7)\n",
    "viz.display(x0)\n",
    "\n",
    "# the desired position\n",
    "des_pos = np.array([0.5, 0.5, 0.5])\n",
    "# we display it\n",
    "viz.viewer['ball'].set_transform(meshcat.transformations.translation_matrix(des_pos))\n",
    "\n",
    "print(f\"the desired position of the end-effector is: {des_pos}\")"
   ]
  },
  {
   "cell_type": "code",
   "execution_count": null,
   "metadata": {},
   "outputs": [],
   "source": [
    "res = scipy.optimize.minimize(get_error, x0, args = (des_pos))\n",
    "\n",
    "print(f\"the joint angle solution for after the optimization is:\\n {res.x}\")\n",
    "print(f\"which would lead to an end-effector position of: {forward_kinematics_KUKA(res.x)[0:3,3]}\")\n",
    "print(f\"hence we made an error of {np.linalg.norm(forward_kinematics_KUKA(res.x)[0:3,3] - des_pos)*1000} millimeters\")\n",
    "\n",
    "\n",
    "#### here we display our solution ####\n",
    "viz.display(res.x)"
   ]
  },
  {
   "cell_type": "markdown",
   "metadata": {},
   "source": [
    "## adding bounds\n",
    "It is further possible to add bounds on the joint configuration, e.g. to make sure we find a solution within the joint limits. Here is an example below where we constraint the solution to have 0 for the first joint."
   ]
  },
  {
   "cell_type": "code",
   "execution_count": null,
   "metadata": {},
   "outputs": [],
   "source": [
    "bounds = [(0., 0.),\n",
    "          (-np.pi, np.pi),\n",
    "          (-np.pi, np.pi),\n",
    "          (-np.pi, np.pi),\n",
    "          (-np.pi, np.pi),\n",
    "          (-np.pi, np.pi),\n",
    "          (-np.pi, np.pi)]\n",
    "\n",
    "res = scipy.optimize.minimize(get_error, x0, args = (des_pos), bounds=bounds)\n",
    "\n",
    "print(f\"the joint angle solution for after the optimization is:\\n {res.x}\")\n",
    "print(f\"which would lead to an end-effector position of: {forward_kinematics_KUKA(res.x)[0:3,3]}\")\n",
    "print(f\"hence we made an error of {np.linalg.norm(forward_kinematics_KUKA(res.x)[0:3,3] - des_pos)*1000} millimeters\")\n",
    "\n",
    "\n",
    "#### here we display our solution ####\n",
    "viz.display(res.x)"
   ]
  },
  {
   "cell_type": "code",
   "execution_count": null,
   "metadata": {},
   "outputs": [],
   "source": []
  }
 ],
 "metadata": {
  "kernelspec": {
   "display_name": "Python 3 (ipykernel)",
   "language": "python",
   "name": "python3"
  },
  "language_info": {
   "codemirror_mode": {
    "name": "ipython",
    "version": 3
   },
   "file_extension": ".py",
   "mimetype": "text/x-python",
   "name": "python",
   "nbconvert_exporter": "python",
   "pygments_lexer": "ipython3",
   "version": "3.12.1"
  }
 },
 "nbformat": 4,
 "nbformat_minor": 4
}
