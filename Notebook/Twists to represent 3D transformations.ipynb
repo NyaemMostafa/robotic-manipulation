{
 "cells": [
  {
   "cell_type": "markdown",
   "metadata": {},
   "source": [
    "# Twists and exponential coordinates\n",
    "\n",
    "This notebook provides a few examples on how to use exponential coordinates (i.e. twists) to represent homegenous transforms."
   ]
  },
  {
   "cell_type": "code",
   "execution_count": null,
   "metadata": {},
   "outputs": [],
   "source": [
    "#setup the notebook for matplotlib\n",
    "%matplotlib widget\n",
    "\n",
    "#all the libraries we will need\n",
    "import numpy as np\n",
    "import matplotlib.pylab as plt\n",
    "from mpl_toolkits.mplot3d import Axes3D\n",
    "from numpy import sin,cos,pi,exp,sqrt\n",
    "from mpl_toolkits.mplot3d.art3d import Poly3DCollection, Line3DCollection\n",
    "\n",
    "from ipywidgets import interact, interactive, fixed, interact_manual, FloatSlider\n",
    "import ipywidgets as widgets\n",
    "from IPython.display import display, Latex, Markdown\n",
    "\n",
    "#this is the library that contains all the rigid body tranforms functions\n",
    "import transforms\n",
    "\n",
    "from display_helpers import pmatrix, bmatrix\n",
    "\n",
    "from scipy.linalg import expm, logm\n",
    "np.set_printoptions(suppress=True, precision=2)\n"
   ]
  },
  {
   "cell_type": "code",
   "execution_count": null,
   "metadata": {},
   "outputs": [],
   "source": [
    "## these are functions to plot the cubes - can be skipped\n",
    "def transform_cube(vertices, T):\n",
    "    v_new = vertices.copy()\n",
    "\n",
    "    for i in range(len(vertices)):\n",
    "        v_aug = np.ones([4,1])\n",
    "        v_aug[0:3,0] = vertices[i,:].transpose()\n",
    "        v_aug_new = T.dot(v_aug)\n",
    "        v_new[i,:] = v_aug_new[0:3,0]\n",
    "    return v_new\n",
    "\n",
    "def update_plot(ax, original_vert, vertices, T, axis=None):\n",
    "    # generate list of sides' polygons of our pyramid\n",
    "    sides = [ [vertices[0],vertices[1],vertices[2],vertices[3]],\n",
    "              [vertices[0],vertices[1],vertices[5],vertices[4]],\n",
    "              [vertices[2],vertices[3],vertices[7],vertices[6]],\n",
    "              [vertices[7],vertices[6],vertices[5],vertices[4]],\n",
    "           [vertices[0],vertices[3],vertices[7],vertices[4]],\n",
    "           [vertices[1],vertices[2],vertices[6],vertices[5]]]\n",
    "    orig_sides = [ [original_vert[0],original_vert[1],original_vert[2],original_vert[3]],\n",
    "              [original_vert[0],original_vert[1],original_vert[5],original_vert[4]],\n",
    "              [original_vert[2],original_vert[3],original_vert[7],original_vert[6]],\n",
    "              [original_vert[7],original_vert[6],original_vert[5],original_vert[4]],\n",
    "           [original_vert[0],original_vert[3],original_vert[7],original_vert[4]],\n",
    "           [original_vert[1],original_vert[2],original_vert[6],original_vert[5]]]\n",
    "    ax.clear()\n",
    "    ax.scatter3D(vertices[:, 0], vertices[:, 1], vertices[:, 2], lw=2)\n",
    "    # plot sides\n",
    "    ax.add_collection3d(Poly3DCollection(sides, facecolors='red', linewidths=2, edgecolors='blue', alpha=.25))\n",
    "\n",
    "    ax.scatter3D(original_vert[:, 0], original_vert[:, 1], original_vert[:, 2], c='r', linestyle='--')\n",
    "    ax.add_collection3d(Poly3DCollection(orig_sides, facecolors='red', linewidths=2, edgecolors='blue', alpha=.25, linestyle='--'))\n",
    "\n",
    "    vector_length = 4\n",
    "    \n",
    "    if axis is not None:\n",
    "        print(axis)\n",
    "        ax.plot3D([0,axis[0]*vector_length],[0,axis[1]*vector_length],[0,axis[2]*vector_length],'k',lw=6)\n",
    "    \n",
    "    ax.set_xlim3d([-vector_length,vector_length])\n",
    "    ax.set_ylim3d([-vector_length,vector_length])\n",
    "    ax.set_zlim3d([-vector_length,vector_length])\n",
    "    ax.plot3D([-vector_length,vector_length],[0,0],[0,0],'--r',lw=2)\n",
    "    ax.plot3D([0,0],[-vector_length,vector_length],[0,0],'--g',lw=2)\n",
    "    ax.plot3D([0,0],[0,0],[-vector_length,vector_length],'--b',lw=2)\n",
    "\n",
    "    x1 = T.dot(np.array([-5,0,0,1]))\n",
    "    x2 = T.dot(np.array([5,0,0,1]))\n",
    "    ax.plot3D([x1[0],x2[0]],[x1[1],x2[1]],[x1[2],x2[2]],'r',lw=2)\n",
    "    x1 = T.dot(np.array([0,-5,0,1]))\n",
    "    x2 = T.dot(np.array([0,5,0,1]))\n",
    "    ax.plot3D([x1[0],x2[0]],[x1[1],x2[1]],[x1[2],x2[2]],'g',lw=2)\n",
    "    x1 = T.dot(np.array([0,0,-5,1]))\n",
    "    x2 = T.dot(np.array([0,0,5,1]))\n",
    "    ax.plot3D([x1[0],x2[0]],[x1[1],x2[1]],[x1[2],x2[2]],'b',lw=2)"
   ]
  },
  {
   "cell_type": "markdown",
   "metadata": {},
   "source": [
    "## A pure translation along the z axis\n",
    "We can write a pure translation (i.e. no rotation) by $\\theta$ along z in exponential coordinates as $v = \\begin{pmatrix} 0\\\\0\\\\ \\theta \\end{pmatrix}$ and $w = \\begin{pmatrix} 0\\\\ 0 \\\\0 \\end{pmatrix}$. The twist is then $\\mathcal{V} = \\begin{pmatrix}0 \\\\ 0 \\\\ 0 \\\\  0\\\\0\\\\ \\theta \\end{pmatrix}$ and the resulting transform will be $$T = e^{[\\mathcal{V}]} = e^{\\begin{bmatrix} 0_{3x3} & v\\\\ 0 & 0\\end{bmatrix}} = \\begin{bmatrix} 1 & 0 & 0 & 0\\\\ 0 & 1 & 0 & 0 \\\\ 0 & 0 & 1 & \\theta  \\\\ 0&0&0& 1 \\end{bmatrix}$$"
   ]
  },
  {
   "cell_type": "code",
   "execution_count": null,
   "metadata": {},
   "outputs": [],
   "source": [
    "def display_cube(ax,v, w, theta):\n",
    "    # vertices of a cube\n",
    "    vertices = np.array([[-2., -1, -1], [2, -1, -1], [2, 1, -1],  [-2, 1, -1], \n",
    "                         [-2., -1, 1], [2, -1, 1], [2, 1, 1],  [-2, 1, 1]])\n",
    "\n",
    "    T = transforms.T_exp(theta*v,theta*w)\n",
    "    \n",
    "    output = 'Exponential coordinates $V = $' + pmatrix(theta * np.concatenate((w,v)).reshape([6,1])) + '\\n'\n",
    "    display(Markdown(output))\n",
    "    \n",
    "    output = 'The resulting homogeneous transform is $T = \\mathrm{e}^{[\\\\theta \\cdot S]}=' + bmatrix(T) + '$'\n",
    "    display(Markdown(output))\n",
    "    \n",
    "    update_plot(ax, vertices, transform_cube(vertices,T), T, axis=w)\n",
    "    \n",
    "\n",
    "# display(Markdown('### Displays a pure translation along z'))\n",
    "fig = plt.figure()\n",
    "ax = fig.add_subplot(111, projection='3d')\n",
    "v = np.array([0,0,1]) #pure translation along z of 4\n",
    "w = np.array([0,0,0]) #no rotation\n",
    "display(Markdown('### Use the slider to change theta'))\n",
    "interact(lambda theta: display_cube(ax,v,w,theta), theta=(-4.0,4.0,0.04))"
   ]
  },
  {
   "cell_type": "markdown",
   "metadata": {},
   "source": [
    "## A pure rotation about a point l about the z axis\n",
    "We can write the pure rotation by $\\theta$ about the point $l$ in exponential coordinates as $w = \\begin{pmatrix} 0\\\\ 0 \\\\ \\theta \\end{pmatrix}$ and $v = -w \\times l = - \\begin{pmatrix} 0\\\\0\\\\\\theta  \\end{pmatrix} \\times \\begin{pmatrix} l_x\\\\l_y \\\\ l_z  \\end{pmatrix} = \\begin{pmatrix}-\\theta l_y \\\\ \\theta l_x \\\\ 0 \\end{pmatrix}$. The twist is thus\n",
    "$\\mathcal{V} = \\begin{pmatrix} 0\\\\ 0 \\\\ \\theta\\\\ -\\theta l_y \\\\ \\theta l_x \\\\ 0 \\end{pmatrix}$\n",
    "and the resulting transform will be $$T = e^{\\begin{bmatrix} [w] & v\\\\ 0 & 0\\end{bmatrix}} = \\begin{bmatrix} \\cos \\theta & -\\sin \\theta & 0 & l_x (1-\\cos \\theta) + l_y \\sin \\theta\\\\ \\sin \\theta & \\cos \\theta & 0 & - l_x \\sin \\theta + l_y (1-\\cos \\theta) \\\\ 0 & 0 & 1 & 0 \\\\ 0&0&0& 1 \\end{bmatrix}$$"
   ]
  },
  {
   "cell_type": "code",
   "execution_count": null,
   "metadata": {},
   "outputs": [],
   "source": [
    "# display(Markdown('### Displays a rotation about a point l about the z axis'))\n",
    "fig = plt.figure()\n",
    "ax = fig.add_subplot(111, projection='3d')\n",
    "w = np.array([0,0,1]) #rotation around z\n",
    "l = np.array([2,2,0]) #arbitrary choice for l\n",
    "display(Markdown(f'We choose to rotate about the point l={l} - feel free to change this'))\n",
    "display(Markdown('### Use the slider to change theta'))\n",
    "interact(lambda theta: display_cube(ax,np.array([l[1],-l[0],0]),w,theta), theta=(-2*pi,2*pi,0.01))"
   ]
  },
  {
   "cell_type": "markdown",
   "metadata": {},
   "source": [
    "## An arbitrary twist to represent a transformation\n",
    "We can also use an arbitrary twist to represent a transformation and scale it with $\\theta$. For example, below we look at the transformation induced by choosing $V = \\begin{pmatrix}0 \\\\ 0 \\\\ 1 \\\\ 0 \\\\ 1 \\\\ 0 \\end{pmatrix} \\cdot \\theta$ for different values of $\\theta$"
   ]
  },
  {
   "cell_type": "code",
   "execution_count": null,
   "metadata": {},
   "outputs": [],
   "source": [
    "# display(Markdown('### Displays a pure translation along z'))\n",
    "fig = plt.figure()\n",
    "ax = fig.add_subplot(111, projection='3d')\n",
    "v = np.array([0,0,1]) #pure translation along z of 4\n",
    "w = np.array([0,1,0]) #no rotation\n",
    "display(Markdown('### Use the slider to change theta'))\n",
    "interact(lambda theta: display_cube(ax,v,w,theta), theta=(-4.0,4.0,0.04))"
   ]
  },
  {
   "cell_type": "code",
   "execution_count": null,
   "metadata": {},
   "outputs": [],
   "source": []
  }
 ],
 "metadata": {
  "kernelspec": {
   "display_name": "Python 3 (ipykernel)",
   "language": "python",
   "name": "python3"
  },
  "language_info": {
   "codemirror_mode": {
    "name": "ipython",
    "version": 3
   },
   "file_extension": ".py",
   "mimetype": "text/x-python",
   "name": "python",
   "nbconvert_exporter": "python",
   "pygments_lexer": "ipython3",
   "version": "3.12.1"
  }
 },
 "nbformat": 4,
 "nbformat_minor": 4
}
