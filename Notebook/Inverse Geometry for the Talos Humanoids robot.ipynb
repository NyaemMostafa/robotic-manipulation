{
 "cells": [
  {
   "cell_type": "markdown",
   "metadata": {},
   "source": [
    "# Inverse Geometry of the Talos Humanoid Robot\n",
    "\n",
    "We show an example of inverse geometry using Pinocchio and the SciPy ``minimize`` function"
   ]
  },
  {
   "cell_type": "code",
   "execution_count": null,
   "metadata": {},
   "outputs": [],
   "source": [
    "#setup nice plotting\n",
    "%matplotlib widget\n",
    "\n",
    "# we import useful libraries\n",
    "import time\n",
    "import numpy as np\n",
    "import pinocchio\n",
    "import os\n",
    "import meshcat\n",
    "import matplotlib as mp\n",
    "import matplotlib.pyplot as plt\n",
    "import scipy\n",
    "\n",
    "np.set_printoptions(suppress=True, precision=4) # we don't want to print every decimal!"
   ]
  },
  {
   "cell_type": "code",
   "execution_count": null,
   "metadata": {},
   "outputs": [],
   "source": [
    "# the directory where the robot models are located\n",
    "package_dirs = './urdf/'\n",
    "\n",
    "# the name of the URDF model (the robot model)\n",
    "urdf_file = 'talos_reduced.urdf'\n",
    "\n",
    "# the number of the frames corresponding to limbs of interest (as exposed in Pinocchio)\n",
    "BASE_LINK_ID = 2\n",
    "LEFT_FOOT_ID = 16\n",
    "RIGHT_FOOT_ID = 30\n",
    "LEFT_HAND_ID = 56\n",
    "RIGHT_HAND_ID = 90\n",
    "HEAD_ID = 106\n",
    "\n",
    "# we load the urdf models with Pinocchio\n",
    "urdf = package_dirs + urdf_file\n",
    "robot = pinocchio.RobotWrapper.BuildFromURDF(urdf, package_dirs, root_joint=pinocchio.JointModelFreeFlyer())\n",
    "\n",
    "# we create the visualization\n",
    "viz = pinocchio.visualize.MeshcatVisualizer(robot.model, robot.collision_model, robot.visual_model)\n",
    "\n",
    "try:\n",
    "    viz.initViewer(open=True)\n",
    "except ImportError as err:\n",
    "    print(\"Error while initializing the viewer. It seems you should install Python meshcat\")\n",
    "    print(err)\n",
    "    sys.exit(0)\n",
    "    \n",
    "viz.loadViewerModel()\n",
    "\n",
    "\n",
    "# place the robot in its default position and display it\n",
    "q0 = pinocchio.neutral(robot.model)\n",
    "viz.display(q0)\n",
    "\n",
    "# create a ball to visualize the goal\n",
    "viz.viewer['ball'].set_object(meshcat.geometry.Sphere(0.05), \n",
    "                              meshcat.geometry.MeshLambertMaterial(\n",
    "                             color=0xff22dd,\n",
    "                             reflectivity=0.8))"
   ]
  },
  {
   "cell_type": "code",
   "execution_count": null,
   "metadata": {},
   "outputs": [],
   "source": [
    "# this is the desired right hand position (no orientation)\n",
    "right_hand_desired = np.array([0.4,0.0, 0.1])\n",
    "viz.viewer['ball'].set_transform(meshcat.transformations.translation_matrix(right_hand_desired))"
   ]
  },
  {
   "cell_type": "code",
   "execution_count": null,
   "metadata": {},
   "outputs": [],
   "source": [
    "def right_hand_error(theta, desired_position):\n",
    "    # compute the forward kinematics\n",
    "    robot.forwardKinematics(theta)\n",
    "    \n",
    "    # get the position of the end-effector\n",
    "    current_guess_position = robot.framePlacement(theta, RIGHT_HAND_ID).translation\n",
    "\n",
    "    error = current_guess_position - desired_position\n",
    "    return error.dot(error) #+ 0.01 * theta[7:28].dot(theta[7:28])\n",
    "\n",
    "\n",
    "# our initial guess\n",
    "q0 = pinocchio.neutral(robot.model)\n",
    "viz.display(q0)\n",
    "print(q0)"
   ]
  },
  {
   "cell_type": "code",
   "execution_count": null,
   "metadata": {},
   "outputs": [],
   "source": [
    "res = scipy.optimize.minimize(right_hand_error, q0, args = (right_hand_desired))\n",
    "\n",
    "robot.forwardKinematics(res.x)\n",
    "final_pos = robot.framePlacement(res.x, RIGHT_HAND_ID).translation\n",
    "\n",
    "print(f\"the joint angle solution for after the optimization is:\\n {res.x}\")\n",
    "print(f\"which would lead to an end-effector position of: {final_pos}\")\n",
    "print(f\"hence we made an error of {np.linalg.norm(final_pos - right_hand_desired)*1000} millimeters\")\n",
    "\n",
    "\n",
    "#### here we display our solution ####\n",
    "viz.display(res.x)"
   ]
  },
  {
   "cell_type": "markdown",
   "metadata": {},
   "source": [
    "## we need to constrain the floating base\n",
    "We do not want the robot to move so we need to constraint the first 7 DOFs of the configuration. Further, we want to constraint the degrees of freedom of the robot that do not belong to the hand."
   ]
  },
  {
   "cell_type": "code",
   "execution_count": null,
   "metadata": {},
   "outputs": [],
   "source": [
    "bounds = [(0., 0.)]*q0.size\n",
    "bounds[0] = (0,0)\n",
    "bounds[1] = (0,0)\n",
    "bounds[2] = (0,0)\n",
    "bounds[3] = (0,0)\n",
    "bounds[4] = (0,0)\n",
    "bounds[5] = (0,0)\n",
    "bounds[6] = (1,1)\n",
    "\n",
    "for i in range(29,35):\n",
    "    bounds[i] = (-np.pi, np.pi)\n",
    "\n",
    "bounds[30] = (-np.pi, 0)\n",
    "\n",
    "res = scipy.optimize.minimize(right_hand_error, q0, args = (right_hand_desired), bounds=bounds)\n",
    "\n",
    "robot.forwardKinematics(res.x)\n",
    "final_pos = robot.framePlacement(res.x, RIGHT_HAND_ID).translation\n",
    "\n",
    "print(f\"the joint angle solution for after the optimization is:\\n {res.x}\")\n",
    "print(f\"which would lead to an end-effector position of: {final_pos}\")\n",
    "print(f\"hence we made an error of {np.linalg.norm(final_pos - right_hand_desired)*1000} millimeters\")\n",
    "\n",
    "\n",
    "#### here we display our solution ####\n",
    "viz.display(res.x)"
   ]
  },
  {
   "cell_type": "markdown",
   "metadata": {},
   "source": [
    "# Multi-objective cost - reaching for two objects\n",
    "We can also optimize for the pose of both hands (or any other frames) by composing the cost functions."
   ]
  },
  {
   "cell_type": "code",
   "execution_count": null,
   "metadata": {},
   "outputs": [],
   "source": [
    "# this is the desired right hand position (no orientation)\n",
    "right_hand_desired = np.array([0.4,0.0, 0.1])\n",
    "viz.viewer['ball'].set_transform(meshcat.transformations.translation_matrix(right_hand_desired))\n",
    "\n",
    "# create a ball to visualize the goal\n",
    "left_hand_desired = np.array([0.4,0.4, 0.1])\n",
    "viz.viewer['ball2'].set_object(meshcat.geometry.Sphere(0.05), \n",
    "                              meshcat.geometry.MeshLambertMaterial(\n",
    "                             color=0x22ffdd,\n",
    "                             reflectivity=0.8))\n",
    "viz.viewer['ball2'].set_transform(meshcat.transformations.translation_matrix(left_hand_desired))\n",
    "\n",
    "q0 = pinocchio.neutral(robot.model)\n",
    "viz.display(q0)"
   ]
  },
  {
   "cell_type": "code",
   "execution_count": null,
   "metadata": {},
   "outputs": [],
   "source": [
    "def both_hand_error(theta, rh_des, lh_des):\n",
    "    # compute the forward kinematics\n",
    "    robot.forwardKinematics(theta)\n",
    "    \n",
    "    # get the position of the end-effector\n",
    "    current_rh_guess_position = robot.framePlacement(theta, RIGHT_HAND_ID).translation\n",
    "    current_lh_guess_position = robot.framePlacement(theta, LEFT_HAND_ID).translation\n",
    "\n",
    "    rh_error = current_rh_guess_position - rh_des\n",
    "    rh_error = rh_error.dot(rh_error)\n",
    "    lh_error = current_lh_guess_position - lh_des\n",
    "    lh_error = lh_error.dot(lh_error)\n",
    "    return lh_error + rh_error\n",
    "\n",
    "bounds = [(0., 0.)]*q0.size\n",
    "bounds[0] = (0,0)\n",
    "bounds[1] = (0,0)\n",
    "bounds[2] = (0,0)\n",
    "bounds[3] = (0,0)\n",
    "bounds[4] = (0,0)\n",
    "bounds[5] = (0,0)\n",
    "bounds[6] = (1,1)\n",
    "\n",
    "# we allow the right hand to move\n",
    "for i in range(29,35):\n",
    "    bounds[i] = (-np.pi, np.pi)\n",
    "\n",
    "# we allos the left hand to move\n",
    "for i in range(21,27):\n",
    "    bounds[i] = (-np.pi, np.pi)\n",
    "\n",
    "\n",
    "bounds[22] = (0, np.pi)\n",
    "bounds[30] = (-np.pi, 0)\n",
    "\n",
    "res = scipy.optimize.minimize(both_hand_error, q0, args = (right_hand_desired, left_hand_desired), bounds=bounds)\n",
    "\n",
    "robot.forwardKinematics(res.x)\n",
    "rh_final_pos = robot.framePlacement(res.x, RIGHT_HAND_ID).translation\n",
    "lh_final_pos = robot.framePlacement(res.x, LEFT_HAND_ID).translation\n",
    "\n",
    "print(f\"the joint angle solution for after the optimization is:\\n {res.x}\")\n",
    "print(f\"which would lead to an end-effector position of RH: {rh_final_pos} and LH: {lh_final_pos}\")\n",
    "print(f\"hence we made an error of {np.linalg.norm(final_pos - right_hand_desired)*1000} millimeters\")\n",
    "\n",
    "\n",
    "#### here we display our solution ####\n",
    "viz.display(res.x)"
   ]
  },
  {
   "cell_type": "code",
   "execution_count": null,
   "metadata": {},
   "outputs": [],
   "source": []
  }
 ],
 "metadata": {
  "kernelspec": {
   "display_name": "Python 3 (ipykernel)",
   "language": "python",
   "name": "python3"
  },
  "language_info": {
   "codemirror_mode": {
    "name": "ipython",
    "version": 3
   },
   "file_extension": ".py",
   "mimetype": "text/x-python",
   "name": "python",
   "nbconvert_exporter": "python",
   "pygments_lexer": "ipython3",
   "version": "3.12.1"
  }
 },
 "nbformat": 4,
 "nbformat_minor": 4
}
